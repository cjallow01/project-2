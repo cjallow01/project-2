{
 "cells": [
  {
   "cell_type": "code",
   "execution_count": null,
   "metadata": {},
   "outputs": [],
   "source": []
  }
 ],
 "metadata": {
  "kernelspec": {
   "display_name": "Python 3.9.12 ('base')",
   "language": "python",
   "name": "python3"
  },
  "language_info": {
   "name": "python",
   "version": "3.9.12"
  },
  "orig_nbformat": 4,
  "vscode": {
   "interpreter": {
    "hash": "711469faae5d803f4d715034c18532f482abb07cf1d2260f952cf3504a42a492"
   }
  }
 },
 "nbformat": 4,
 "nbformat_minor": 2
}
